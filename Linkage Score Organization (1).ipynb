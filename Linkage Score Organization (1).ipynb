{
 "cells": [
  {
   "cell_type": "code",
   "execution_count": 2,
   "metadata": {},
   "outputs": [
    {
     "name": "stdin",
     "output_type": "stream",
     "text": [
      "Type 0 if your are running this program with SNPs and 1 if you are running it with WGS:  0\n"
     ]
    },
    {
     "name": "stdout",
     "output_type": "stream",
     "text": [
      "8785\n",
      "8757\n",
      "  Dirty Genotype File Name Dirty Genotype from Match  \\\n",
      "0                    8785D                      8785   \n",
      "1                    8757D                      8757   \n",
      "\n",
      "                                          Match File  Highest Linkage Score  \n",
      "0                                                NaN                   0.88  \n",
      "1  ../../../Genotypes/AMP-AD_ROSMAP-Genotypes/snp...                   0.97  \n",
      "{'Dirty Genotype from File Name': ['8785D', '8757D'], 'Dirty Genotype from Match': ['8785', '8757'], 'Highest Linkage Score': [0.88, 0.97]}\n"
     ]
    }
   ],
   "source": [
    "import pandas as pd\n",
    "import os\n",
    "\n",
    "masterIDs = pd.read_csv(\"RedonePersonalID.csv\")\n",
    "path = \"SNP Inputs\"\n",
    "DGfiles = os.listdir(path)\n",
    "inputDGs = []\n",
    "matches = []\n",
    "matchDGs = []\n",
    "linkageScores = []\n",
    "errorLinkageScores = []\n",
    "errorInputs = []\n",
    "errorOutputs = []\n",
    "\n",
    "dataType = input(\"Type 0 if your are running this program with SNP and 1 if you are running it with WGS: \")\n",
    "\n",
    "for file in DGfiles: \n",
    "    if file.endswith(\".txt\"):\n",
    "        #Extracting matched files from master list\n",
    "        codeResults = pd.read_csv(path + \"/\" + file, sep = \" \", header = None)\n",
    "        SNPlocation = codeResults.iloc[0,2]\n",
    "        if dataType == \"0\":\n",
    "            match = masterIDs.iloc[int(SNPlocation),3]\n",
    "        elif dataType == \"1\":\n",
    "            match = masterIDs.iloc[int(SNPlocation),5]\n",
    "        matches.append(match)\n",
    "        \n",
    "        #Getting dirty genotype name from file name\n",
    "        inputDG = file[0:4]\n",
    "        inputDGs.append(inputDG)\n",
    "       \n",
    "        linkageScores.append(codeResults.iloc[0,0])\n",
    "        \n",
    "        #Getting dirty genotype name from corresponding match in master list\n",
    "        matchDG = masterIDs.iloc[(int(SNPlocation)-1),0]\n",
    "        length = len(str(matchDG))\n",
    "        shortenedMatchDG = matchDG[length-4:length]\n",
    "        matchDGs.append(shortenedMatchDG) \n",
    "   \n",
    "        #Finding places where two dirty genotype files do not match\n",
    "        if shortenedMatchDG != inputDG:\n",
    "            errorLinkageScores.append(codeResults.iloc[0,0])\n",
    "            errorInputs.append(inputDG)\n",
    "            errorOutputs.append(shortenedMatchDG)\n",
    "\n",
    "#Recording mismatched dirty genotype files\n",
    "errorFile = open(\"Error\", \"w+\")\n",
    "\n",
    "if len(errorLinkageScores) == 0:    \n",
    "    errorFile.write(\"All of the files were matched one to one.\")\n",
    "else:\n",
    "    errorTable = {'Dirty Genotype from File Name': errorInputs,\n",
    "            \"Dirty Genotype from Match\": errorOutputs,\n",
    "           \"Highest Linkage Score\": errorLinkageScores}\n",
    "    errorDF = pd.DataFrame(errorTable)\n",
    "    errorDF.to_csv(\"Error.csv\")\n",
    "    errorFile.write(\"See Error.csv\")\n",
    "\n",
    "#Recording matching file names\n",
    "newTable = {'Dirty Genotype File Name': inputDGs,\n",
    "            \"Dirty Genotype from Match\": matchDGs,\n",
    "           \"Match File\": matches,\n",
    "           \"Highest Linkage Score\": linkageScores}\n",
    "finalDF = pd.DataFrame(newTable)\n",
    "finalDF.to_csv(\"Directory.csv\")"
   ]
  },
  {
   "cell_type": "code",
   "execution_count": null,
   "metadata": {},
   "outputs": [],
   "source": []
  }
 ],
 "metadata": {
  "kernelspec": {
   "display_name": "Python 3",
   "language": "python",
   "name": "python3"
  },
  "language_info": {
   "codemirror_mode": {
    "name": "ipython",
    "version": 3
   },
   "file_extension": ".py",
   "mimetype": "text/x-python",
   "name": "python",
   "nbconvert_exporter": "python",
   "pygments_lexer": "ipython3",
   "version": "3.8.3"
  }
 },
 "nbformat": 4,
 "nbformat_minor": 4
}
